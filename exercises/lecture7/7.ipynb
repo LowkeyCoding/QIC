{
 "cells": [
  {
   "cell_type": "code",
   "execution_count": 175,
   "metadata": {},
   "outputs": [],
   "source": [
    "import numpy as np\n",
    "import datetime\n",
    "# --- Config ---\n",
    "shots = 1000\n",
    "save_data = False\n",
    "out_path = \"../data\"\n",
    "uniqe_name = datetime.datetime.now().strftime(\"%y-%m-%d-%H-%M\")\n",
    "# qubit register blocks (name, count)\n",
    "qrblock = [('q',1)]\n",
    "\n",
    "# clas register blocks (name, count)\n",
    "crblock = [('c',1)]"
   ]
  },
  {
   "cell_type": "code",
   "execution_count": 176,
   "metadata": {},
   "outputs": [],
   "source": [
    "from qiskit import *\n",
    "\n",
    "# The quantum circuit takes in the quantum register and classical register\n",
    "qregs =  [QuantumRegister(x,n) for n,x in qrblock]\n",
    "cregs =  [ClassicalRegister(x,n) for n,x in crblock]\n",
    "qc = QuantumCircuit(*qregs, *cregs)"
   ]
  },
  {
   "cell_type": "code",
   "execution_count": 177,
   "metadata": {},
   "outputs": [],
   "source": [
    "# |1>\n",
    "I = np.array([0,1])\n",
    "# |0>\n",
    "O = np.array([1,0])\n",
    "\n",
    "def sum_over(name, arr, fn):\n",
    "    sum = 0\n",
    "    for (_name, count) in arr:\n",
    "        if name == _name:\n",
    "            return fn(sum, count)\n",
    "        else:\n",
    "            sum += count\n",
    "    return None\n",
    "\n",
    "def creg(name, id):\n",
    "    res = sum_over(name, crblock, lambda sum,_: sum+id )\n",
    "    if res == None:\n",
    "        raise Exception(f\"Unkown classical register \\\"{(name, id)}\\\"\") \n",
    "    return res\n",
    "\n",
    "\n",
    "def cregs(name):\n",
    "    res = sum_over(name, crblock, lambda sum,count: [x for x in range(sum,sum+count)])\n",
    "    if res == None:\n",
    "        raise Exception(f\"Unkown quantum registers with the name \\\"{name}\\\"\")\n",
    "    return res\n",
    "\n",
    "def qreg(name, id):\n",
    "    res = sum_over(name, qrblock, lambda sum,_: sum+id )\n",
    "    if res == None:\n",
    "        raise Exception(f\"Unkown quantum register \\\"{(name, id)}\\\"\") \n",
    "    return res \n",
    "\n",
    "def qregs(name):\n",
    "    res = sum_over(name, qrblock, lambda sum,count: [x for x in range(sum,sum+count)])\n",
    "    if res == None:\n",
    "        raise Exception(f\"Unkown quantum registers with the name \\\"{name}\\\"\") \n",
    "    return res\n"
   ]
  },
  {
   "cell_type": "code",
   "execution_count": 178,
   "metadata": {},
   "outputs": [],
   "source": [
    "qc.initialize(O)\n",
    "## q1 see 1.1.png to 1.3.png\n",
    "## q2 == 3\n",
    "\n",
    "\n",
    "\n",
    "# Draw bloch sphere\n",
    "from qiskit.quantum_info import Statevector\n",
    "plot_bloch_multivector(Statevector(qc),filename=\"./1.3.png\")"
   ]
  },
  {
   "cell_type": "code",
   "execution_count": 179,
   "metadata": {},
   "outputs": [
    {
     "name": "stderr",
     "output_type": "stream",
     "text": [
      "c:\\Users\\Lowkey PC\\AppData\\Local\\Programs\\Python\\Python312\\Lib\\site-packages\\qiskit\\visualization\\circuit\\matplotlib.py:266: FutureWarning: The default matplotlib drawer scheme will be changed to \"iqp\" in a following release. To silence this warning, specify the current default explicitly as style=\"clifford\", or the new default as style=\"iqp\".\n",
      "  self._style, def_font_ratio = load_style(self._style)\n"
     ]
    },
    {
     "data": {
      "image/png": "[encoded data removed]",
      "text/plain": [
       "<Figure size 352.675x200.667 with 1 Axes>"
      ]
     },
     "execution_count": 179,
     "metadata": {},
     "output_type": "execute_result"
    }
   ],
   "source": [
    "qc.measure(qregs(\"q\"),cregs(\"c\"))\n",
    "\n",
    "# Draw it\n",
    "qc.draw(output=\"mpl\")"
   ]
  },
  {
   "cell_type": "code",
   "execution_count": 180,
   "metadata": {},
   "outputs": [],
   "source": [
    "from qiskit_aer import AerSimulator\n",
    "\n",
    "backend = AerSimulator()\n",
    "job = backend.run(qc, shots=shots, memory=True)\n",
    "\n",
    "\n",
    "result = job.result()\n",
    "counts = result.get_counts()"
   ]
  },
  {
   "cell_type": "code",
   "execution_count": 181,
   "metadata": {},
   "outputs": [],
   "source": [
    "import json\n",
    "# data formatted into the clasical register blocks  [block1, .., block2] where\n",
    "# each block contains an array of the results for each shot\n",
    "mem = result.get_memory()\n",
    "results = [[] for _ in range(len(crblock))]\n",
    "for entry in mem:\n",
    "    for i,x in enumerate(entry.split()):\n",
    "        results[i].append(x)\n",
    "mem_file = f\"{out_path}mem-{uniqe_name}.json\"\n",
    "if save_data:\n",
    "    with open(mem_file,\"w+\") as f:\n",
    "        f.write(json.dumps({\"mem\": mem, \"formatted\":results}))"
   ]
  },
  {
   "cell_type": "code",
   "execution_count": 182,
   "metadata": {},
   "outputs": [
    {
     "data": {
      "image/png": "[encoded data removed]",
      "text/plain": [
       "<Figure size 700x500 with 1 Axes>"
      ]
     },
     "execution_count": 182,
     "metadata": {},
     "output_type": "execute_result"
    }
   ],
   "source": [
    "# Use data here\n",
    "from qiskit.tools.visualization import *\n",
    "plot_file = f\"{out_path}/plot-{uniqe_name}.png\"\n",
    "if save_data:\n",
    "    plot_histogram(result.get_counts(), filename=plot_file)\n",
    "plot_histogram(result.get_counts())"
   ]
  }
 ],
 "metadata": {
  "kernelspec": {
   "display_name": "Python 3",
   "language": "python",
   "name": "python3"
  },
  "language_info": {
   "codemirror_mode": {
    "name": "ipython",
    "version": 3
   },
   "file_extension": ".py",
   "mimetype": "text/x-python",
   "name": "python",
   "nbconvert_exporter": "python",
   "pygments_lexer": "ipython3",
   "version": "3.12.2"
  }
 },
 "nbformat": 4,
 "nbformat_minor": 2
}
